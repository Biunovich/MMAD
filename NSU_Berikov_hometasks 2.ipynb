{
 "cells": [
  {
   "cell_type": "code",
   "execution_count": 2,
   "metadata": {
    "collapsed": true
   },
   "outputs": [],
   "source": [
    "import numpy as np\n",
    "import pandas as pd\n",
    "from scipy.stats import norm\n",
    "import pylab"
   ]
  },
  {
   "cell_type": "code",
   "execution_count": 10,
   "metadata": {},
   "outputs": [
    {
     "name": "stdout",
     "output_type": "stream",
     "text": [
      "          salary\n",
      "count    4.00000\n",
      "mean   125.25000\n",
      "std     16.02862\n",
      "min    102.00000\n",
      "25%    121.50000\n",
      "50%    130.50000\n",
      "75%    134.25000\n",
      "max    138.00000\n",
      "           salary\n",
      "count    6.000000\n",
      "mean   241.666667\n",
      "std     94.812798\n",
      "min    122.000000\n",
      "25%    178.500000\n",
      "50%    228.000000\n",
      "75%    321.000000\n",
      "max    358.000000\n"
     ]
    },
    {
     "data": {
      "text/html": [
       "<div>\n",
       "<style>\n",
       "    .dataframe thead tr:only-child th {\n",
       "        text-align: right;\n",
       "    }\n",
       "\n",
       "    .dataframe thead th {\n",
       "        text-align: left;\n",
       "    }\n",
       "\n",
       "    .dataframe tbody tr th {\n",
       "        vertical-align: top;\n",
       "    }\n",
       "</style>\n",
       "<table border=\"1\" class=\"dataframe\">\n",
       "  <thead>\n",
       "    <tr style=\"text-align: right;\">\n",
       "      <th></th>\n",
       "      <th>accepted</th>\n",
       "      <th>salary</th>\n",
       "    </tr>\n",
       "  </thead>\n",
       "  <tbody>\n",
       "    <tr>\n",
       "      <th>1</th>\n",
       "      <td>False</td>\n",
       "      <td>128</td>\n",
       "    </tr>\n",
       "    <tr>\n",
       "      <th>2</th>\n",
       "      <td>False</td>\n",
       "      <td>102</td>\n",
       "    </tr>\n",
       "    <tr>\n",
       "      <th>3</th>\n",
       "      <td>False</td>\n",
       "      <td>138</td>\n",
       "    </tr>\n",
       "    <tr>\n",
       "      <th>4</th>\n",
       "      <td>False</td>\n",
       "      <td>133</td>\n",
       "    </tr>\n",
       "    <tr>\n",
       "      <th>5</th>\n",
       "      <td>True</td>\n",
       "      <td>342</td>\n",
       "    </tr>\n",
       "    <tr>\n",
       "      <th>6</th>\n",
       "      <td>True</td>\n",
       "      <td>198</td>\n",
       "    </tr>\n",
       "    <tr>\n",
       "      <th>7</th>\n",
       "      <td>True</td>\n",
       "      <td>172</td>\n",
       "    </tr>\n",
       "    <tr>\n",
       "      <th>8</th>\n",
       "      <td>True</td>\n",
       "      <td>358</td>\n",
       "    </tr>\n",
       "    <tr>\n",
       "      <th>9</th>\n",
       "      <td>True</td>\n",
       "      <td>258</td>\n",
       "    </tr>\n",
       "    <tr>\n",
       "      <th>10</th>\n",
       "      <td>True</td>\n",
       "      <td>122</td>\n",
       "    </tr>\n",
       "  </tbody>\n",
       "</table>\n",
       "</div>"
      ],
      "text/plain": [
       "    accepted  salary\n",
       "1      False     128\n",
       "2      False     102\n",
       "3      False     138\n",
       "4      False     133\n",
       "5       True     342\n",
       "6       True     198\n",
       "7       True     172\n",
       "8       True     358\n",
       "9       True     258\n",
       "10      True     122"
      ]
     },
     "execution_count": 10,
     "metadata": {},
     "output_type": "execute_result"
    }
   ],
   "source": [
    "V = 58\n",
    "d = {1: 70 + V, 2: 160 - V, 3: 80 + V, 4: 75 + V, 5: 400 - V, 6: 140 + V, 7: 230 - V, 8: 300 + V, 9: 200 + V, 10: 180 - V}\n",
    "data = { 'salary': pd.Series(d), 'accepted': pd.Series({1: False, 2: False, 3: False, 4: False, 5: True, 6: True, 7:True, 8:True, 9: True, 10:True})}\n",
    "data1 = pd.DataFrame(data)\n",
    "print(data1[data1['accepted'] == False].describe())\n",
    "print(data1[data1['accepted'] == True].describe())\n",
    "data1"
   ]
  },
  {
   "cell_type": "code",
   "execution_count": 9,
   "metadata": {},
   "outputs": [
    {
     "data": {
      "image/png": "[encoded data removed]",
      "text/plain": [
       "<matplotlib.figure.Figure at 0x7fd257709be0>"
      ]
     },
     "metadata": {},
     "output_type": "display_data"
    }
   ],
   "source": [
    "meanfalse = data1[data1['accepted'] == False].mean()\n",
    "meantrue = data1[data1['accepted'] == True].mean()\n",
    "stdfalse = data1[data1['accepted'] == False].std()\n",
    "stdtrue = data1[data1['accepted'] == True].std()\n",
    "xfalse = np.linspace(0,400,1000)\n",
    "yfalse = norm.cdf(xfalse, loc=meanfalse['salary'], scale=stdfalse['salary'])\n",
    "pylab.plot(xfalse,(2/5)*yfalse)\n",
    "xtrue = np.linspace(0,400,1000)\n",
    "ytrue = norm.cdf(xtrue, loc=meantrue['salary'], scale=stdtrue['salary'])\n",
    "pylab.plot(xtrue,(3/5)*ytrue)\n",
    "pylab.show()"
   ]
  },
  {
   "cell_type": "code",
   "execution_count": null,
   "metadata": {
    "collapsed": true
   },
   "outputs": [],
   "source": []
  }
 ],
 "metadata": {
  "kernelspec": {
   "display_name": "Python 3",
   "language": "python",
   "name": "python3"
  },
  "language_info": {
   "codemirror_mode": {
    "name": "ipython",
    "version": 3
   },
   "file_extension": ".py",
   "mimetype": "text/x-python",
   "name": "python",
   "nbconvert_exporter": "python",
   "pygments_lexer": "ipython3",
   "version": "3.6.1"
  }
 },
 "nbformat": 4,
 "nbformat_minor": 2
}
