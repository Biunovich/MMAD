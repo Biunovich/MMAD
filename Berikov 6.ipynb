{
 "cells": [
  {
   "cell_type": "code",
   "execution_count": 1,
   "metadata": {
    "collapsed": true
   },
   "outputs": [],
   "source": [
    "import numpy as np\n",
    "import math\n",
    "import pandas as pd\n",
    "import pylab\n",
    "from math import log\n",
    "import random"
   ]
  },
  {
   "cell_type": "code",
   "execution_count": 2,
   "metadata": {},
   "outputs": [
    {
     "data": {
      "image/png": "[encoded data removed]",
      "text/plain": [
       "<matplotlib.figure.Figure at 0x7fac9cbe2128>"
      ]
     },
     "metadata": {},
     "output_type": "display_data"
    }
   ],
   "source": [
    "V = 58\n",
    "Sen = [0, 0.6, 0.75, 0.8, 0.9, 0.95, 1]\n",
    "Spec = [0, 0.05, 0.08, 0.1, 0.15, 0.25, 1]\n",
    "pylab.ylim([0,1])\n",
    "pylab.xlim([0,1])\n",
    "pylab.plot(Spec, Sen)\n",
    "pylab.show()"
   ]
  },
  {
   "cell_type": "code",
   "execution_count": 6,
   "metadata": {},
   "outputs": [
    {
     "name": "stdout",
     "output_type": "stream",
     "text": [
      "0 1252.8\n",
      "1 635.1\n",
      "2 476.41200000000003\n",
      "3 421.08\n",
      "4 307.97999999999996\n",
      "5 233.16000000000005\n",
      "6 0.0\n",
      "0.0\n"
     ]
    }
   ],
   "source": [
    "Incom = V * 10\n",
    "Loss = V * 30\n",
    "Ratio = V/100\n",
    "loses = np.zeros(len(Sen))\n",
    "def funloss(i):\n",
    "    return Incom * (1 - Ratio) * (1 - Spec[i]) + Loss * Ratio * (1- Sen[i])\n",
    "for i in range(len(Sen)):\n",
    "    loses[i] = funloss(i)\n",
    "    print(i, funloss(i))\n",
    "print(min(loses))\n"
   ]
  }
 ],
 "metadata": {
  "kernelspec": {
   "display_name": "Python 3",
   "language": "python",
   "name": "python3"
  },
  "language_info": {
   "codemirror_mode": {
    "name": "ipython",
    "version": 3
   },
   "file_extension": ".py",
   "mimetype": "text/x-python",
   "name": "python",
   "nbconvert_exporter": "python",
   "pygments_lexer": "ipython3",
   "version": "3.6.1"
  }
 },
 "nbformat": 4,
 "nbformat_minor": 2
}
