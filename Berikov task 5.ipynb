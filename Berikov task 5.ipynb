{
 "cells": [
  {
   "cell_type": "code",
   "execution_count": 162,
   "metadata": {
    "collapsed": true
   },
   "outputs": [],
   "source": [
    "import numpy as np\n",
    "import math\n",
    "import pandas as pd\n",
    "import pylab\n",
    "from math import log\n",
    "import random"
   ]
  },
  {
   "cell_type": "code",
   "execution_count": 171,
   "metadata": {},
   "outputs": [],
   "source": [
    "data = []\n",
    "with open('/home/buin/Загрузки/mushrooms', 'r') as f:\n",
    "    for line in f:\n",
    "        linesplit = line.strip().split(',')\n",
    "        if len(linesplit) > 22:\n",
    "            data.append({i : linesplit[i-1] for i in range(1,24)})\n",
    "df = pd.DataFrame(data)\n",
    "test = random.sample(range(8124), 8124)\n",
    "testdf =  df.loc[test[:5416],:]\n",
    "traindf = df.loc[test[5416:],:]"
   ]
  },
  {
   "cell_type": "code",
   "execution_count": 175,
   "metadata": {},
   "outputs": [],
   "source": [
    "(Num, _) = testdf.shape\n",
    "(P, _) = testdf[testdf[1] == 'p'].shape\n",
    "(E, _) = testdf[testdf[1] == 'e'].shape\n",
    "cl = {'p': P, 'e': E}\n",
    "saved = {}"
   ]
  },
  {
   "cell_type": "code",
   "execution_count": 176,
   "metadata": {},
   "outputs": [],
   "source": [
    "def classify(W):\n",
    "    return max(['p', 'e'], key=lambda x: log(cl[x]) + sum([f(x, n, W[n - 2]) for n in range(2,24)]))\n",
    "def f(x, n, feat):\n",
    "    try:\n",
    "        return saved[(x, n, feat)]\n",
    "    except KeyError:\n",
    "        saved[(x, n, feat)] = testdf[(testdf[1] == x) & (testdf[n] == feat)][n].count()/cl[x]\n",
    "        return saved[(x, n, feat)]"
   ]
  },
  {
   "cell_type": "code",
   "execution_count": 179,
   "metadata": {},
   "outputs": [
    {
     "name": "stdout",
     "output_type": "stream",
     "text": [
      "89.06942392909896\n"
     ]
    }
   ],
   "source": [
    "n = 0\n",
    "for i in test[5416:]:\n",
    "    if (classify(traindf.loc[i,2:].values) == traindf.loc[i,1]):\n",
    "        n = n + 1\n",
    "print(n * 100 / len(test[5416:]))"
   ]
  },
  {
   "cell_type": "code",
   "execution_count": null,
   "metadata": {
    "collapsed": true
   },
   "outputs": [],
   "source": []
  }
 ],
 "metadata": {
  "kernelspec": {
   "display_name": "Python 3",
   "language": "python",
   "name": "python3"
  },
  "language_info": {
   "codemirror_mode": {
    "name": "ipython",
    "version": 3
   },
   "file_extension": ".py",
   "mimetype": "text/x-python",
   "name": "python",
   "nbconvert_exporter": "python",
   "pygments_lexer": "ipython3",
   "version": "3.6.1"
  }
 },
 "nbformat": 4,
 "nbformat_minor": 2
}
